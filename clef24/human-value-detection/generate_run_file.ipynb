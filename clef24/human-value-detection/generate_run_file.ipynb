{
 "cells": [
  {
   "cell_type": "markdown",
   "metadata": {},
   "source": [
    "# Gerador de Arquivo de Submissão (run.tsv)\n",
    "\n",
    "Este notebook utiliza o modelo `SotirisLegkas/multi-head-xlm-xl-tokens-38` do Hugging Face para gerar predições para o conjunto de dados de teste localizado em `../../valueeval24/test-english/`."
   ]
  },
  {
   "cell_type": "markdown",
   "metadata": {},
   "source": [
    "## 1. Instalação de Dependências"
   ]
  },
  {
   "cell_type": "code",
   "execution_count": null,
   "metadata": {},
   "outputs": [],
   "source": [
    "!pip install transformers torch pandas tqdm"
   ]
  },
  {
   "cell_type": "markdown",
   "metadata": {},
   "source": [
    "## 2. Imports e Configuração Inicial"
   ]
  },
  {
   "cell_type": "code",
   "execution_count": null,
   "metadata": {},
   "outputs": [],
   "source": [
    "import pandas as pd\n",
    "import torch\n",
    "from transformers import AutoTokenizer, AutoModelForSequenceClassification\n",
    "from tqdm.notebook import tqdm\n",
    "import numpy as np\n",
    "import os"
   ]
  },
  {
   "cell_type": "markdown",
   "metadata": {},
   "source": [
    "## 3. Carregar Dados"
   ]
  },
  {
   "cell_type": "code",
   "execution_count": null,
   "metadata": {},
   "outputs": [],
   "source": [
    "sentences_df = pd.read_csv('../../valueeval24/test-english/sentences.tsv', sep='\t')\n",
    "print(\"Amostra dos dados de sentenças:\")\n",
    "print(sentences_df.head())"
   ]
  },
  {
   "cell_type": "markdown",
   "metadata": {},
   "source": [
    "## 4. Carregar Modelo e Tokenizer"
   ]
  },
  {
   "cell_type": "code",
   "execution_count": null,
   "metadata": {},
   "outputs": [],
   "source": [
    "MODEL_NAME = 'SotirisLegkas/multi-head-xlm-xl-tokens-38'\n",
    "\n",
    "device = torch.device('cuda' if torch.cuda.is_available() else 'cpu')\n",
    "print(f'Usando dispositivo: {device}')\n",
    "\n",
    "tokenizer = AutoTokenizer.from_pretrained(MODEL_NAME)\n",
    "model = AutoModelForSequenceClassification.from_pretrained(MODEL_NAME)\n",
    "model.to(device)"
   ]
  },
  {
   "cell_type": "markdown",
   "metadata": {},
   "source": [
    "## 5. Gerar Predições"
   ]
  },
  {
   "cell_type": "code",
   "execution_count": null,
   "metadata": {},
   "outputs": [],
   "source": [
    "def predict_batch(texts):\n",
    "    inputs = tokenizer(texts, padding=True, truncation=True, return_tensors=\"pt\", max_length=512)\n",
    "    inputs = {k: v.to(device) for k, v in inputs.items()}\n",
    "    with torch.no_grad():\n",
    "        outputs = model(**inputs)\n",
    "    logits = outputs.logits\n",
    "    probabilities = torch.sigmoid(logits)\n",
    "    return probabilities.cpu().numpy()\n",
    "\n",
    "batch_size = 16\n",
    "all_predictions = []\n",
    "\n",
    "texts = sentences_df['Text'].tolist()\n",
    "\n",
    "for i in tqdm(range(0, len(texts), batch_size)):\n",
    "    batch_texts = texts[i:i+batch_size]\n",
    "    batch_preds = predict_batch(batch_texts)\n",
    "    all_predictions.extend(batch_preds)"
   ]
  },
  {
   "cell_type": "markdown",
   "metadata": {},
   "source": [
    "## 6. Formatar e Salvar o Arquivo run.tsv"
   ]
  },
  {
   "cell_type": "code",
   "execution_count": null,
   "metadata": {},
   "outputs": [],
   "source": [
    "# Nomes dos valores e colunas, conforme definido no script do avaliador\n",
    "availableValues = [\"Self-direction: thought\", \"Self-direction: action\", \"Stimulation\", \"Hedonism\", \"Achievement\", \"Power: dominance\", \"Power: resources\", \"Face\", \"Security: personal\", \"Security: societal\", \"Tradition\", \"Conformity: rules\", \"Conformity: interpersonal\", \"Humility\", \"Benevolence: caring\", \"Benevolence: dependability\", \"Universalism: concern\", \"Universalism: nature\", \"Universalism: tolerance\"]\n",
    "value_columns = [value + postfix for value in availableValues for postfix in [' attained', ' constrained']]\n",
    "\n",
    "# Criar o DataFrame de resultados\n",
    "predictions_df = pd.DataFrame(all_predictions, columns=value_columns)\n",
    "\n",
    "# Combinar com os IDs das sentenças\n",
    "run_df = pd.concat([sentences_df[['Text-ID', 'Sentence-ID']], predictions_df], axis=1)\n",
    "\n",
    "# Garantir que o diretório de saída exista\n",
    "output_dir = 'run'\n",
    "if not os.path.exists(output_dir):\n",
    "    os.makedirs(output_dir)\n",
    "\n",
    "# Salvar o arquivo run.tsv\n",
    "output_path = os.path.join(output_dir, 'run.tsv')\n",
    "run_df.to_csv(output_path, sep='\t', index=False, float_format='%.4f')\n",
    "\n",
    "print(f\"Arquivo 'run.tsv' salvo em: {os.path.abspath(output_path)}\")\n",
    "print(\"Amostra do arquivo de saída:\")\n",
    "print(run_df.head())"
   ]
  }
 ],
 "metadata": {
  "kernelspec": {
   "display_name": "Python 3",
   "language": "python",
   "name": "python3"
  },
  "language_info": {
   "codemirror_mode": {
    "name": "ipython",
    "version": 3
   },
   "file_extension": ".py",
   "mimetype": "text/x-python",
   "name": "python",
   "nbconvert_exporter": "python",
   "pygments_lexer": "ipython3",
   "version": "3.9.7"
  }
 },
 "nbformat": 4,
 "nbformat_minor": 4
}